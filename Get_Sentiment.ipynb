{
 "cells": [
  {
   "cell_type": "code",
   "metadata": {
    "source_hash": "9b82ee11",
    "execution_start": 1698458950072,
    "execution_millis": 13,
    "deepnote_to_be_reexecuted": false,
    "cell_id": "8f8510f9cf8449ca91a8b0832b9482b1",
    "deepnote_cell_type": "code",
    "ExecuteTime": {
     "end_time": "2023-10-28T02:46:39.659742Z",
     "start_time": "2023-10-28T02:46:39.312065Z"
    }
   },
   "source": [
    "import pandas as pd"
   ],
   "block_group": "8f8510f9cf8449ca91a8b0832b9482b1",
   "execution_count": 2,
   "outputs": []
  },
  {
   "cell_type": "code",
   "metadata": {
    "source_hash": "66c34516",
    "execution_start": 1698459861271,
    "execution_millis": 828,
    "deepnote_to_be_reexecuted": false,
    "cell_id": "9800999eeea244138c3dd049aea7d9f8",
    "deepnote_cell_type": "code",
    "ExecuteTime": {
     "end_time": "2023-10-28T03:44:43.850489Z",
     "start_time": "2023-10-28T03:44:43.671910Z"
    }
   },
   "source": [
    "df_1 = pd.read_excel('dataset.xlsx', header=0, index_col=0)"
   ],
   "block_group": "a803450285a7436b8a205cc2b863a77c",
   "execution_count": 32,
   "outputs": []
  },
  {
   "cell_type": "code",
   "metadata": {
    "source_hash": "4c4453ff",
    "execution_start": 1698460425982,
    "execution_millis": 135,
    "deepnote_to_be_reexecuted": false,
    "cell_id": "2e87397832c34731a746175547c9c023",
    "deepnote_cell_type": "code",
    "ExecuteTime": {
     "end_time": "2023-10-28T02:46:42.691105Z",
     "start_time": "2023-10-28T02:46:42.677827Z"
    }
   },
   "source": [
    "df_1.head()"
   ],
   "block_group": "27464a9466da4d939e49ec43142fe48a",
   "execution_count": 4,
   "outputs": [
    {
     "data": {
      "text/plain": "                       id                                       name  \\\n0  1hA4856JVAa0qqgKg6olJf  The Messenger - Live from Las Vegas, 2011   \n1  0GgN4MhR5GKn5IcKN0e0rG                                     Cancer   \n2  10nyNJ6zNy2YVYLrcwLccB                               No Surprises   \n3  7lRlq939cDG4SzWOF4VAnd                   I'm Not Okay (I Promise)   \n4  5u2FOoFhp495GIj5BJC77J                           Hold On Till May   \n\n                artist  disc  duration  episode  explicit  popularity  \\\n0          Linkin Park     1    233280    False     False          37   \n1  My Chemical Romance     1    142973    False     False          72   \n2            Radiohead     1    229120    False     False          83   \n3  My Chemical Romance     1    186480    False      True          78   \n4      Pierce The Veil     1    278586    False     False          66   \n\n   danceability  acousticness  energy  instrumentalness  liveness  loudness  \\\n0         0.325      0.726000   0.409          0.000013    0.1880    -5.711   \n1         0.457      0.358000   0.515          0.000000    0.2780    -4.310   \n2         0.255      0.057700   0.393          0.003610    0.1130   -10.654   \n3         0.210      0.006020   0.940          0.000000    0.2690    -3.427   \n4         0.460      0.000585   0.910          0.001550    0.0735    -3.710   \n\n   mode  speechiness    tempo  time_signature  valence  \\\n0     1       0.0295  109.001               4    0.187   \n1     1       0.0261   74.984               4    0.222   \n2     1       0.0278   76.426               4    0.118   \n3     1       0.1230  179.722               4    0.255   \n4     1       0.0525   73.019               4    0.327   \n\n                                              lyrics  \n0  6 ContributorsThe Messenger (Live from Las Veg...  \n1  93 ContributorsCancer Lyrics\\nTurn away\\nIf yo...  \n2  129 ContributorsTranslationsРусскийDeutschEspa...  \n3  109 ContributorsTranslationsEspañolI’m Not Oka...  \n4  58 ContributorsHold on Till May Lyrics\\nShe si...  ",
      "text/html": "<div>\n<style scoped>\n    .dataframe tbody tr th:only-of-type {\n        vertical-align: middle;\n    }\n\n    .dataframe tbody tr th {\n        vertical-align: top;\n    }\n\n    .dataframe thead th {\n        text-align: right;\n    }\n</style>\n<table border=\"1\" class=\"dataframe\">\n  <thead>\n    <tr style=\"text-align: right;\">\n      <th></th>\n      <th>id</th>\n      <th>name</th>\n      <th>artist</th>\n      <th>disc</th>\n      <th>duration</th>\n      <th>episode</th>\n      <th>explicit</th>\n      <th>popularity</th>\n      <th>danceability</th>\n      <th>acousticness</th>\n      <th>energy</th>\n      <th>instrumentalness</th>\n      <th>liveness</th>\n      <th>loudness</th>\n      <th>mode</th>\n      <th>speechiness</th>\n      <th>tempo</th>\n      <th>time_signature</th>\n      <th>valence</th>\n      <th>lyrics</th>\n    </tr>\n  </thead>\n  <tbody>\n    <tr>\n      <th>0</th>\n      <td>1hA4856JVAa0qqgKg6olJf</td>\n      <td>The Messenger - Live from Las Vegas, 2011</td>\n      <td>Linkin Park</td>\n      <td>1</td>\n      <td>233280</td>\n      <td>False</td>\n      <td>False</td>\n      <td>37</td>\n      <td>0.325</td>\n      <td>0.726000</td>\n      <td>0.409</td>\n      <td>0.000013</td>\n      <td>0.1880</td>\n      <td>-5.711</td>\n      <td>1</td>\n      <td>0.0295</td>\n      <td>109.001</td>\n      <td>4</td>\n      <td>0.187</td>\n      <td>6 ContributorsThe Messenger (Live from Las Veg...</td>\n    </tr>\n    <tr>\n      <th>1</th>\n      <td>0GgN4MhR5GKn5IcKN0e0rG</td>\n      <td>Cancer</td>\n      <td>My Chemical Romance</td>\n      <td>1</td>\n      <td>142973</td>\n      <td>False</td>\n      <td>False</td>\n      <td>72</td>\n      <td>0.457</td>\n      <td>0.358000</td>\n      <td>0.515</td>\n      <td>0.000000</td>\n      <td>0.2780</td>\n      <td>-4.310</td>\n      <td>1</td>\n      <td>0.0261</td>\n      <td>74.984</td>\n      <td>4</td>\n      <td>0.222</td>\n      <td>93 ContributorsCancer Lyrics\\nTurn away\\nIf yo...</td>\n    </tr>\n    <tr>\n      <th>2</th>\n      <td>10nyNJ6zNy2YVYLrcwLccB</td>\n      <td>No Surprises</td>\n      <td>Radiohead</td>\n      <td>1</td>\n      <td>229120</td>\n      <td>False</td>\n      <td>False</td>\n      <td>83</td>\n      <td>0.255</td>\n      <td>0.057700</td>\n      <td>0.393</td>\n      <td>0.003610</td>\n      <td>0.1130</td>\n      <td>-10.654</td>\n      <td>1</td>\n      <td>0.0278</td>\n      <td>76.426</td>\n      <td>4</td>\n      <td>0.118</td>\n      <td>129 ContributorsTranslationsРусскийDeutschEspa...</td>\n    </tr>\n    <tr>\n      <th>3</th>\n      <td>7lRlq939cDG4SzWOF4VAnd</td>\n      <td>I'm Not Okay (I Promise)</td>\n      <td>My Chemical Romance</td>\n      <td>1</td>\n      <td>186480</td>\n      <td>False</td>\n      <td>True</td>\n      <td>78</td>\n      <td>0.210</td>\n      <td>0.006020</td>\n      <td>0.940</td>\n      <td>0.000000</td>\n      <td>0.2690</td>\n      <td>-3.427</td>\n      <td>1</td>\n      <td>0.1230</td>\n      <td>179.722</td>\n      <td>4</td>\n      <td>0.255</td>\n      <td>109 ContributorsTranslationsEspañolI’m Not Oka...</td>\n    </tr>\n    <tr>\n      <th>4</th>\n      <td>5u2FOoFhp495GIj5BJC77J</td>\n      <td>Hold On Till May</td>\n      <td>Pierce The Veil</td>\n      <td>1</td>\n      <td>278586</td>\n      <td>False</td>\n      <td>False</td>\n      <td>66</td>\n      <td>0.460</td>\n      <td>0.000585</td>\n      <td>0.910</td>\n      <td>0.001550</td>\n      <td>0.0735</td>\n      <td>-3.710</td>\n      <td>1</td>\n      <td>0.0525</td>\n      <td>73.019</td>\n      <td>4</td>\n      <td>0.327</td>\n      <td>58 ContributorsHold on Till May Lyrics\\nShe si...</td>\n    </tr>\n  </tbody>\n</table>\n</div>"
     },
     "execution_count": 4,
     "metadata": {},
     "output_type": "execute_result"
    }
   ]
  },
  {
   "cell_type": "markdown",
   "metadata": {
    "formattedRanges": [],
    "cell_id": "597ac761d845461f8d6258b9f52c118c",
    "deepnote_cell_type": "text-cell-callout"
   },
   "source": [
    "> Remove songs without lyric and select only lyrics"
   ],
   "block_group": "6ebdc603a553484eb6066d6bcddc286f"
  },
  {
   "cell_type": "code",
   "metadata": {
    "source_hash": "cddddbc7",
    "execution_start": 1698459870729,
    "execution_millis": 29,
    "deepnote_to_be_reexecuted": false,
    "cell_id": "bb7d71ed71bb44d691ed464f0d1c72c7",
    "deepnote_cell_type": "code",
    "ExecuteTime": {
     "end_time": "2023-10-28T02:46:53.729194Z",
     "start_time": "2023-10-28T02:46:53.720252Z"
    }
   },
   "source": [
    "sum(df_1['lyrics'] == 'lyrics not available')"
   ],
   "block_group": "74e8e13acfb2481185a0f14264e5e5dd",
   "execution_count": 5,
   "outputs": [
    {
     "data": {
      "text/plain": "198"
     },
     "execution_count": 5,
     "metadata": {},
     "output_type": "execute_result"
    }
   ]
  },
  {
   "cell_type": "code",
   "metadata": {
    "source_hash": "4d583bda",
    "execution_start": 1698460499387,
    "execution_millis": 9,
    "deepnote_to_be_reexecuted": false,
    "cell_id": "04d016256dcf45cbbca9ce605549b2cd",
    "deepnote_cell_type": "code",
    "ExecuteTime": {
     "end_time": "2023-10-28T03:44:47.599380Z",
     "start_time": "2023-10-28T03:44:47.593186Z"
    }
   },
   "source": [
    "df_1 = df_1[df_1['lyrics'] != 'lyrics not available']"
   ],
   "block_group": "324ce12427474f028bad47ea1011ab93",
   "execution_count": 33,
   "outputs": []
  },
  {
   "cell_type": "code",
   "metadata": {
    "source_hash": "8585e493",
    "execution_start": 1698460548186,
    "execution_millis": 21,
    "deepnote_to_be_reexecuted": false,
    "cell_id": "091c122a5518473c9ae9c995f0389940",
    "deepnote_cell_type": "code",
    "ExecuteTime": {
     "end_time": "2023-10-28T03:44:49.401427Z",
     "start_time": "2023-10-28T03:44:49.393460Z"
    }
   },
   "source": [
    "from langdetect import detect"
   ],
   "block_group": "f1616755ffbf48b6bd9347e5b30cca73",
   "execution_count": 34,
   "outputs": []
  },
  {
   "cell_type": "code",
   "metadata": {
    "source_hash": "4e493473",
    "execution_start": 1698460572851,
    "execution_millis": 8232,
    "deepnote_to_be_reexecuted": false,
    "cell_id": "cc43a4ae0a7f4db3ad960e4a8d808173",
    "deepnote_cell_type": "code",
    "ExecuteTime": {
     "end_time": "2023-10-28T03:44:55.004962Z",
     "start_time": "2023-10-28T03:44:50.895700Z"
    }
   },
   "source": [
    "# Assuming you have a DataFrame named 'df' with a 'Lyrics' column\n",
    "df_1['language'] = df_1['lyrics'].apply(lambda x: detect(x) if isinstance(x, str) else 'unknown')"
   ],
   "block_group": "fa58c2cf7ce8468593da2b662dabbcac",
   "execution_count": 35,
   "outputs": []
  },
  {
   "cell_type": "code",
   "metadata": {
    "source_hash": "b64fb9d9",
    "execution_start": 1698460594167,
    "execution_millis": 16,
    "deepnote_to_be_reexecuted": false,
    "cell_id": "560e371fac224286b46a0632a2aaf630",
    "deepnote_cell_type": "code",
    "ExecuteTime": {
     "end_time": "2023-10-28T02:48:02.666332Z",
     "start_time": "2023-10-28T02:48:02.660790Z"
    }
   },
   "source": [
    "df_1.language.value_counts()"
   ],
   "block_group": "f72f2e4ff3784ff3a3e4b7826a9e783f",
   "execution_count": 9,
   "outputs": [
    {
     "data": {
      "text/plain": "en    686\nes     93\nfr     45\nca      3\npt      3\nit      2\ntr      1\nso      1\nsk      1\ntl      1\nName: language, dtype: int64"
     },
     "execution_count": 9,
     "metadata": {},
     "output_type": "execute_result"
    }
   ]
  },
  {
   "cell_type": "code",
   "metadata": {
    "cell_id": "d8db539147524a80a13ae895412321b7",
    "deepnote_cell_type": "code",
    "ExecuteTime": {
     "end_time": "2023-10-28T03:44:55.009049Z",
     "start_time": "2023-10-28T03:44:55.006893Z"
    }
   },
   "source": [
    "# only leave en, es ,fr\n",
    "df_1 = df_1[df_1['language'].isin(['en', 'es', 'fr'])]\n",
    "# divide into 3 dataframes\n",
    "df_en = df_1[df_1['language'] == 'en']\n",
    "df_es = df_1[df_1['language'] == 'es']\n",
    "df_fr = df_1[df_1['language'] == 'fr']"
   ],
   "block_group": "bfc20d747ad34dd9b10ec34a558d07d6",
   "execution_count": 36,
   "outputs": []
  },
  {
   "cell_type": "code",
   "metadata": {
    "source_hash": "4be91485",
    "execution_start": 1698459875189,
    "execution_millis": 14,
    "deepnote_to_be_reexecuted": false,
    "cell_id": "332eb534137247a5a95c6cdc2a51e953",
    "deepnote_cell_type": "code",
    "ExecuteTime": {
     "end_time": "2023-10-28T03:44:55.379501Z",
     "start_time": "2023-10-28T03:44:55.375442Z"
    }
   },
   "source": [
    "# to list \n",
    "lyrics_en = df_en['lyrics'].tolist()\n",
    "lyrics_es = df_es['lyrics'].tolist()\n",
    "lyrics_fr = df_fr['lyrics'].tolist()"
   ],
   "block_group": "5fe9f68f6c9d4235b4ed5f11403c0679",
   "execution_count": 37,
   "outputs": []
  },
  {
   "cell_type": "code",
   "execution_count": 38,
   "outputs": [],
   "source": [
    "import spacy"
   ],
   "metadata": {
    "collapsed": false,
    "ExecuteTime": {
     "end_time": "2023-10-28T03:44:57.767591Z",
     "start_time": "2023-10-28T03:44:57.754608Z"
    }
   }
  },
  {
   "cell_type": "code",
   "execution_count": 39,
   "outputs": [],
   "source": [
    "def process_lyrics(lyrics, language_model):\n",
    "    processed_lyrics = []\n",
    "    for lyric in lyrics:\n",
    "        doc = language_model(lyric)\n",
    "        tokens = [token.lemma_ for token in doc if not token.is_stop]\n",
    "        processed_lyrics.append(tokens)\n",
    "    return processed_lyrics\n",
    "\n",
    "def remove_unwanted_words(processed_lyrics, unwanted_words):\n",
    "    cleaned_lyrics = []\n",
    "\n",
    "    for tokens in processed_lyrics:\n",
    "        cleaned_tokens = [token for token in tokens if token not in unwanted_words]\n",
    "        cleaned_lyrics.append(cleaned_tokens)\n",
    "\n",
    "    return cleaned_lyrics"
   ],
   "metadata": {
    "collapsed": false,
    "ExecuteTime": {
     "end_time": "2023-10-28T03:44:57.946448Z",
     "start_time": "2023-10-28T03:44:57.943395Z"
    }
   }
  },
  {
   "cell_type": "code",
   "metadata": {
    "source_hash": "a493214a",
    "execution_start": 1698459901537,
    "execution_millis": 19,
    "deepnote_to_be_reexecuted": false,
    "cell_id": "8e098133ad824f6e9500f85d6d9f3b7f",
    "deepnote_cell_type": "code",
    "ExecuteTime": {
     "end_time": "2023-10-28T03:47:39.785923Z",
     "start_time": "2023-10-28T03:44:59.221655Z"
    }
   },
   "source": [
    "\n",
    "# Load the language models for each language\n",
    "nlp_en = spacy.load('en_core_web_sm')\n",
    "nlp_es = spacy.load('es_core_news_sm')\n",
    "nlp_fr = spacy.load('fr_core_news_sm')\n",
    "\n",
    "# Process English lyrics\n",
    "processed_lyrics_en = process_lyrics(lyrics_en, nlp_en)\n",
    "\n",
    "# Process Spanish lyrics\n",
    "processed_lyrics_es = process_lyrics(lyrics_es, nlp_es)\n",
    "\n",
    "# Process French lyrics\n",
    "processed_lyrics_fr = process_lyrics(lyrics_fr, nlp_fr)"
   ],
   "block_group": "34f5e3b8790e40a6932d24ba32f79d92",
   "execution_count": 40,
   "outputs": []
  },
  {
   "cell_type": "code",
   "execution_count": 41,
   "outputs": [],
   "source": [
    "\n",
    "\n",
    "# List of unwanted words to remove\n",
    "unwanted_words = [\"\\n\", \"(\", \")\", \",\", ]\n",
    "\n",
    "# Processed lyrics for different languages (from process_lyrics function)\n",
    "# processed_lyrics_en, processed_lyrics_es, processed_lyrics_fr\n",
    "\n",
    "# Remove unwanted words from processed lyrics\n",
    "cleaned_lyrics_en = remove_unwanted_words(processed_lyrics_en, unwanted_words)\n",
    "cleaned_lyrics_es = remove_unwanted_words(processed_lyrics_es, unwanted_words)\n",
    "cleaned_lyrics_fr = remove_unwanted_words(processed_lyrics_fr, unwanted_words)"
   ],
   "metadata": {
    "collapsed": false,
    "ExecuteTime": {
     "end_time": "2023-10-28T03:48:27.017112Z",
     "start_time": "2023-10-28T03:48:27.015532Z"
    }
   }
  },
  {
   "cell_type": "code",
   "metadata": {
    "cell_id": "c9c66e16f7064c15a7a0390ffd209ed8",
    "deepnote_cell_type": "code",
    "ExecuteTime": {
     "end_time": "2023-10-28T03:48:28.225599Z",
     "start_time": "2023-10-28T03:48:28.222264Z"
    }
   },
   "source": [
    "cleaned_lyrics_en[0]"
   ],
   "block_group": "51ac246348884c7ea4ab4453e9dd2a02",
   "execution_count": 42,
   "outputs": [
    {
     "data": {
      "text/plain": "['6',\n 'ContributorsThe',\n 'Messenger',\n 'live',\n 'Las',\n 'Vegas',\n '2011',\n 'lyricswhen',\n 'feel',\n 'cut',\n 'cruel',\n 'world',\n 'instinct',\n 'tell',\n 'run',\n 'listen',\n 'heart',\n 'angel',\n 'voice',\n 'sing',\n 'guide',\n 'home',\n 'life',\n 'leave',\n 'blind',\n 'Love',\n 'keep',\n 'kind',\n 'keep',\n 'kind',\n 'suffer',\n 'spirit',\n 'break',\n 'grow',\n 'desperate',\n 'fight',\n 'remember',\n 'love',\n 'melody',\n 'bring',\n 'right',\n 'home',\n 'life',\n 'leave',\n 'blind',\n 'Love',\n 'keep',\n 'kind',\n 'life',\n 'leave',\n 'blind',\n 'Love',\n 'keep',\n 'kind',\n 'Ohhhhhh',\n 'Ohhhhhhh',\n '!',\n 'Ohhhhhh',\n '!',\n 'Ohhhhhh',\n 'Ohhhhhhh',\n '!',\n 'Ohhhhhhh!You',\n 'likeembed']"
     },
     "execution_count": 42,
     "metadata": {},
     "output_type": "execute_result"
    }
   ]
  },
  {
   "cell_type": "code",
   "execution_count": 21,
   "outputs": [],
   "source": [
    "from nltk.sentiment.vader import SentimentIntensityAnalyzer"
   ],
   "metadata": {
    "collapsed": false,
    "ExecuteTime": {
     "end_time": "2023-10-28T03:28:06.775356Z",
     "start_time": "2023-10-28T03:28:04.178101Z"
    }
   }
  },
  {
   "cell_type": "code",
   "execution_count": 45,
   "outputs": [],
   "source": [
    "from textblob import TextBlob\n",
    "import spacy"
   ],
   "metadata": {
    "collapsed": false,
    "ExecuteTime": {
     "end_time": "2023-10-28T03:49:30.291187Z",
     "start_time": "2023-10-28T03:49:30.268948Z"
    }
   }
  },
  {
   "cell_type": "code",
   "execution_count": 25,
   "outputs": [
    {
     "name": "stderr",
     "output_type": "stream",
     "text": [
      "[nltk_data] Downloading package vader_lexicon to\n",
      "[nltk_data]     /Users/kaz/nltk_data...\n"
     ]
    },
    {
     "data": {
      "text/plain": "True"
     },
     "execution_count": 25,
     "metadata": {},
     "output_type": "execute_result"
    }
   ],
   "source": [
    "import nltk\n",
    "nltk.download('vader_lexicon')"
   ],
   "metadata": {
    "collapsed": false,
    "ExecuteTime": {
     "end_time": "2023-10-28T03:31:20.016395Z",
     "start_time": "2023-10-28T03:31:19.843962Z"
    }
   }
  },
  {
   "cell_type": "code",
   "execution_count": 46,
   "outputs": [],
   "source": [
    "\n",
    "# Load the language models for each language\n",
    "nlp_en = spacy.load('en_core_web_sm')\n",
    "nlp_es = spacy.load('es_core_news_sm')\n",
    "nlp_fr = spacy.load('fr_core_news_sm')\n",
    "\n",
    "def analyze_sentiment(lyrics, language_model):\n",
    "    sentiment_scores = []\n",
    "    for lyric in lyrics:\n",
    "        doc = language_model(lyric)\n",
    "        text = \" \".join([token.lemma_ for token in doc if not token.is_stop])\n",
    "        blob = TextBlob(text)\n",
    "        sentiment_scores.append(blob.sentiment)\n",
    "    return sentiment_scores\n",
    "\n",
    "# Assuming you have DataFrames df_en, df_es, df_fr with columns 'Lyrics' and 'language'\n",
    "\n",
    "language_dataframes = {\n",
    "    'en': df_en,\n",
    "    'es': df_es,\n",
    "    'fr': df_fr,\n",
    "}\n",
    "\n",
    "new_dataframes = {}\n",
    "\n",
    "for lang, df in language_dataframes.items():\n",
    "    sentiment_scores = analyze_sentiment(df['lyrics'], language_model=nlp_en if lang == 'en' else nlp_es if lang == 'es' else nlp_fr)\n",
    "\n",
    "    new_df = df.copy()  # Create a copy of the original DataFrame\n",
    "    new_df['Sentiment'] = sentiment_scores\n",
    "    new_dataframes[lang] = new_df\n",
    "\n",
    "# The 'new_dataframes' dictionary now contains new DataFrames with sentiment scores for each language\n",
    "\n"
   ],
   "metadata": {
    "collapsed": false,
    "ExecuteTime": {
     "end_time": "2023-10-28T03:52:10.113086Z",
     "start_time": "2023-10-28T03:49:32.152759Z"
    }
   }
  },
  {
   "cell_type": "code",
   "execution_count": 48,
   "outputs": [
    {
     "data": {
      "text/plain": "                       id                                       name  \\\n0  1hA4856JVAa0qqgKg6olJf  The Messenger - Live from Las Vegas, 2011   \n1  0GgN4MhR5GKn5IcKN0e0rG                                     Cancer   \n2  10nyNJ6zNy2YVYLrcwLccB                               No Surprises   \n3  7lRlq939cDG4SzWOF4VAnd                   I'm Not Okay (I Promise)   \n4  5u2FOoFhp495GIj5BJC77J                           Hold On Till May   \n\n                artist  disc  duration  episode  explicit  popularity  \\\n0          Linkin Park     1    233280    False     False          37   \n1  My Chemical Romance     1    142973    False     False          72   \n2            Radiohead     1    229120    False     False          83   \n3  My Chemical Romance     1    186480    False      True          78   \n4      Pierce The Veil     1    278586    False     False          66   \n\n   danceability  acousticness  ...  liveness  loudness  mode  speechiness  \\\n0         0.325      0.726000  ...    0.1880    -5.711     1       0.0295   \n1         0.457      0.358000  ...    0.2780    -4.310     1       0.0261   \n2         0.255      0.057700  ...    0.1130   -10.654     1       0.0278   \n3         0.210      0.006020  ...    0.2690    -3.427     1       0.1230   \n4         0.460      0.000585  ...    0.0735    -3.710     1       0.0525   \n\n     tempo  time_signature  valence  \\\n0  109.001               4    0.187   \n1   74.984               4    0.222   \n2   76.426               4    0.118   \n3  179.722               4    0.255   \n4   73.019               4    0.327   \n\n                                              lyrics  language  \\\n0  6 ContributorsThe Messenger (Live from Las Veg...        en   \n1  93 ContributorsCancer Lyrics\\nTurn away\\nIf yo...        en   \n2  129 ContributorsTranslationsРусскийDeutschEspa...        en   \n3  109 ContributorsTranslationsEspañolI’m Not Oka...        en   \n4  58 ContributorsHold on Till May Lyrics\\nShe si...        en   \n\n                                     Sentiment  \n0    (0.14147186147186147, 0.7357142857142857)  \n1   (-0.06732954545454548, 0.6781250000000001)  \n2  (-0.012500000000000002, 0.6319444444444445)  \n3     (0.2685897435897436, 0.5352564102564104)  \n4    (0.17705882352941177, 0.4994117647058824)  \n\n[5 rows x 22 columns]",
      "text/html": "<div>\n<style scoped>\n    .dataframe tbody tr th:only-of-type {\n        vertical-align: middle;\n    }\n\n    .dataframe tbody tr th {\n        vertical-align: top;\n    }\n\n    .dataframe thead th {\n        text-align: right;\n    }\n</style>\n<table border=\"1\" class=\"dataframe\">\n  <thead>\n    <tr style=\"text-align: right;\">\n      <th></th>\n      <th>id</th>\n      <th>name</th>\n      <th>artist</th>\n      <th>disc</th>\n      <th>duration</th>\n      <th>episode</th>\n      <th>explicit</th>\n      <th>popularity</th>\n      <th>danceability</th>\n      <th>acousticness</th>\n      <th>...</th>\n      <th>liveness</th>\n      <th>loudness</th>\n      <th>mode</th>\n      <th>speechiness</th>\n      <th>tempo</th>\n      <th>time_signature</th>\n      <th>valence</th>\n      <th>lyrics</th>\n      <th>language</th>\n      <th>Sentiment</th>\n    </tr>\n  </thead>\n  <tbody>\n    <tr>\n      <th>0</th>\n      <td>1hA4856JVAa0qqgKg6olJf</td>\n      <td>The Messenger - Live from Las Vegas, 2011</td>\n      <td>Linkin Park</td>\n      <td>1</td>\n      <td>233280</td>\n      <td>False</td>\n      <td>False</td>\n      <td>37</td>\n      <td>0.325</td>\n      <td>0.726000</td>\n      <td>...</td>\n      <td>0.1880</td>\n      <td>-5.711</td>\n      <td>1</td>\n      <td>0.0295</td>\n      <td>109.001</td>\n      <td>4</td>\n      <td>0.187</td>\n      <td>6 ContributorsThe Messenger (Live from Las Veg...</td>\n      <td>en</td>\n      <td>(0.14147186147186147, 0.7357142857142857)</td>\n    </tr>\n    <tr>\n      <th>1</th>\n      <td>0GgN4MhR5GKn5IcKN0e0rG</td>\n      <td>Cancer</td>\n      <td>My Chemical Romance</td>\n      <td>1</td>\n      <td>142973</td>\n      <td>False</td>\n      <td>False</td>\n      <td>72</td>\n      <td>0.457</td>\n      <td>0.358000</td>\n      <td>...</td>\n      <td>0.2780</td>\n      <td>-4.310</td>\n      <td>1</td>\n      <td>0.0261</td>\n      <td>74.984</td>\n      <td>4</td>\n      <td>0.222</td>\n      <td>93 ContributorsCancer Lyrics\\nTurn away\\nIf yo...</td>\n      <td>en</td>\n      <td>(-0.06732954545454548, 0.6781250000000001)</td>\n    </tr>\n    <tr>\n      <th>2</th>\n      <td>10nyNJ6zNy2YVYLrcwLccB</td>\n      <td>No Surprises</td>\n      <td>Radiohead</td>\n      <td>1</td>\n      <td>229120</td>\n      <td>False</td>\n      <td>False</td>\n      <td>83</td>\n      <td>0.255</td>\n      <td>0.057700</td>\n      <td>...</td>\n      <td>0.1130</td>\n      <td>-10.654</td>\n      <td>1</td>\n      <td>0.0278</td>\n      <td>76.426</td>\n      <td>4</td>\n      <td>0.118</td>\n      <td>129 ContributorsTranslationsРусскийDeutschEspa...</td>\n      <td>en</td>\n      <td>(-0.012500000000000002, 0.6319444444444445)</td>\n    </tr>\n    <tr>\n      <th>3</th>\n      <td>7lRlq939cDG4SzWOF4VAnd</td>\n      <td>I'm Not Okay (I Promise)</td>\n      <td>My Chemical Romance</td>\n      <td>1</td>\n      <td>186480</td>\n      <td>False</td>\n      <td>True</td>\n      <td>78</td>\n      <td>0.210</td>\n      <td>0.006020</td>\n      <td>...</td>\n      <td>0.2690</td>\n      <td>-3.427</td>\n      <td>1</td>\n      <td>0.1230</td>\n      <td>179.722</td>\n      <td>4</td>\n      <td>0.255</td>\n      <td>109 ContributorsTranslationsEspañolI’m Not Oka...</td>\n      <td>en</td>\n      <td>(0.2685897435897436, 0.5352564102564104)</td>\n    </tr>\n    <tr>\n      <th>4</th>\n      <td>5u2FOoFhp495GIj5BJC77J</td>\n      <td>Hold On Till May</td>\n      <td>Pierce The Veil</td>\n      <td>1</td>\n      <td>278586</td>\n      <td>False</td>\n      <td>False</td>\n      <td>66</td>\n      <td>0.460</td>\n      <td>0.000585</td>\n      <td>...</td>\n      <td>0.0735</td>\n      <td>-3.710</td>\n      <td>1</td>\n      <td>0.0525</td>\n      <td>73.019</td>\n      <td>4</td>\n      <td>0.327</td>\n      <td>58 ContributorsHold on Till May Lyrics\\nShe si...</td>\n      <td>en</td>\n      <td>(0.17705882352941177, 0.4994117647058824)</td>\n    </tr>\n  </tbody>\n</table>\n<p>5 rows × 22 columns</p>\n</div>"
     },
     "execution_count": 48,
     "metadata": {},
     "output_type": "execute_result"
    }
   ],
   "source": [
    "new_dataframes['en'].head()\n",
    "# add column for polarity and subjectivity socre from sentiment"
   ],
   "metadata": {
    "collapsed": false,
    "ExecuteTime": {
     "end_time": "2023-10-28T04:00:16.733992Z",
     "start_time": "2023-10-28T04:00:16.730917Z"
    }
   }
  },
  {
   "cell_type": "code",
   "execution_count": 49,
   "outputs": [],
   "source": [
    "def split_sentiment_column(df, sentiment_column_name, polarity_column_name, subjectivity_column_name):\n",
    "    df[[polarity_column_name, subjectivity_column_name]] = pd.DataFrame(df[sentiment_column_name].tolist(), index=df.index)\n",
    "    df = df.drop(sentiment_column_name, axis=1)\n",
    "    return df"
   ],
   "metadata": {
    "collapsed": false,
    "ExecuteTime": {
     "end_time": "2023-10-28T04:03:20.127163Z",
     "start_time": "2023-10-28T04:03:20.119084Z"
    }
   }
  },
  {
   "cell_type": "code",
   "execution_count": 50,
   "outputs": [],
   "source": [
    "new_dataframes['en'] = split_sentiment_column(new_dataframes['en'], 'Sentiment', 'Polarity', 'Subjectivity')\n",
    "new_dataframes['es'] = split_sentiment_column(new_dataframes['es'], 'Sentiment', 'Polarity', 'Subjectivity')\n",
    "new_dataframes['fr'] = split_sentiment_column(new_dataframes['fr'], 'Sentiment', 'Polarity', 'Subjectivity')"
   ],
   "metadata": {
    "collapsed": false,
    "ExecuteTime": {
     "end_time": "2023-10-28T04:03:38.880221Z",
     "start_time": "2023-10-28T04:03:38.875621Z"
    }
   }
  },
  {
   "cell_type": "code",
   "execution_count": 55,
   "outputs": [
    {
     "data": {
      "text/plain": "<Axes: >"
     },
     "execution_count": 55,
     "metadata": {},
     "output_type": "execute_result"
    },
    {
     "data": {
      "text/plain": "<Figure size 640x480 with 1 Axes>",
      "image/png": "[encoded data removed]"
     },
     "metadata": {},
     "output_type": "display_data"
    }
   ],
   "source": [
    "new_dataframes['en']['Polarity'].hist()"
   ],
   "metadata": {
    "collapsed": false,
    "ExecuteTime": {
     "end_time": "2023-10-28T19:05:37.445326Z",
     "start_time": "2023-10-28T19:05:36.880430Z"
    }
   }
  },
  {
   "cell_type": "code",
   "execution_count": 56,
   "outputs": [
    {
     "data": {
      "text/plain": "<Axes: >"
     },
     "execution_count": 56,
     "metadata": {},
     "output_type": "execute_result"
    },
    {
     "data": {
      "text/plain": "<Figure size 640x480 with 1 Axes>",
      "image/png": "[encoded data removed]"
     },
     "metadata": {},
     "output_type": "display_data"
    }
   ],
   "source": [
    "new_dataframes['es']['Polarity'].hist()"
   ],
   "metadata": {
    "collapsed": false,
    "ExecuteTime": {
     "end_time": "2023-10-28T19:05:38.209877Z",
     "start_time": "2023-10-28T19:05:38.139213Z"
    }
   }
  },
  {
   "cell_type": "code",
   "execution_count": 57,
   "outputs": [
    {
     "data": {
      "text/plain": "<Axes: >"
     },
     "execution_count": 57,
     "metadata": {},
     "output_type": "execute_result"
    },
    {
     "data": {
      "text/plain": "<Figure size 640x480 with 1 Axes>",
      "image/png": "[encoded data removed]"
     },
     "metadata": {},
     "output_type": "display_data"
    }
   ],
   "source": [
    "new_dataframes['fr']['Polarity'].hist()"
   ],
   "metadata": {
    "collapsed": false,
    "ExecuteTime": {
     "end_time": "2023-10-28T19:05:38.745780Z",
     "start_time": "2023-10-28T19:05:38.682597Z"
    }
   }
  },
  {
   "cell_type": "code",
   "execution_count": 58,
   "outputs": [],
   "source": [
    "# to csv\n",
    "new_dataframes['en'].to_csv('songs_en.csv', index_label=False)\n",
    "new_dataframes['es'].to_csv('songs_es.csv', index_label=False)\n",
    "new_dataframes['fr'].to_csv('songs_fr.csv', index_label=False)\n"
   ],
   "metadata": {
    "collapsed": false,
    "ExecuteTime": {
     "end_time": "2023-10-28T19:07:18.166635Z",
     "start_time": "2023-10-28T19:07:18.101307Z"
    }
   }
  },
  {
   "cell_type": "code",
   "execution_count": 62,
   "outputs": [],
   "source": [
    "# drop lyrics column\n",
    "# new_dataframes['en'].drop('lyrics', axis=1, inplace=True)\n",
    "# new_dataframes['es'].drop('lyrics', axis=1, inplace=True)\n",
    "# new_dataframes['fr'].drop('lyrics', axis=1, inplace=True)"
   ],
   "metadata": {
    "collapsed": false,
    "ExecuteTime": {
     "end_time": "2023-10-28T19:09:57.561575Z",
     "start_time": "2023-10-28T19:09:57.540639Z"
    }
   }
  },
  {
   "cell_type": "code",
   "execution_count": 66,
   "outputs": [],
   "source": [
    "new_dataframes['en'].to_excel('songs_en.xlsx', index=False)\n",
    "new_dataframes['es'].to_excel('songs_es.xlsx', index=False)\n",
    "new_dataframes['fr'].to_excel('songs_fr.xlsx', index=False)"
   ],
   "metadata": {
    "collapsed": false,
    "ExecuteTime": {
     "end_time": "2023-10-28T19:15:07.969262Z",
     "start_time": "2023-10-28T19:15:07.818043Z"
    }
   }
  },
  {
   "cell_type": "code",
   "execution_count": null,
   "outputs": [],
   "source": [],
   "metadata": {
    "collapsed": false
   }
  }
 ],
 "nbformat": 4,
 "nbformat_minor": 0,
 "metadata": {
  "deepnote": {},
  "orig_nbformat": 2,
  "deepnote_notebook_id": "9da557c9d0a14b9a8d8df1a7a5c87eee",
  "deepnote_persisted_session": {
   "createdAt": "2023-10-28T02:04:25.220Z"
  },
  "deepnote_execution_queue": [],
  "kernelspec": {
   "name": "python3",
   "language": "python",
   "display_name": "Python 3 (ipykernel)"
  }
 }
}
