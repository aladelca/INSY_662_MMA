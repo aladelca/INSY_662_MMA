{
 "cells": [
  {
   "cell_type": "markdown",
   "metadata": {},
   "source": [
    "# Data Pre-processing"
   ]
  },
  {
   "cell_type": "code",
   "execution_count": 1,
   "metadata": {},
   "outputs": [
    {
     "name": "stderr",
     "output_type": "stream",
     "text": [
      "C:\\Users\\user\\anaconda3\\lib\\site-packages\\scipy\\__init__.py:146: UserWarning: A NumPy version >=1.16.5 and <1.23.0 is required for this version of SciPy (detected version 1.26.2\n",
      "  warnings.warn(f\"A NumPy version >={np_minversion} and <{np_maxversion}\"\n",
      "[nltk_data] Downloading package vader_lexicon to\n",
      "[nltk_data]     C:\\Users\\user\\AppData\\Roaming\\nltk_data...\n",
      "[nltk_data]   Package vader_lexicon is already up-to-date!\n"
     ]
    },
    {
     "data": {
      "text/plain": [
       "True"
      ]
     },
     "execution_count": 1,
     "metadata": {},
     "output_type": "execute_result"
    }
   ],
   "source": [
    "# Import libraries\n",
    "import pandas as pd\n",
    "from langdetect import detect\n",
    "import spacy\n",
    "import nltk\n",
    "from nltk.sentiment.vader import SentimentIntensityAnalyzer\n",
    "from textblob import TextBlob\n",
    "nltk.download('vader_lexicon')"
   ]
  },
  {
   "cell_type": "code",
   "execution_count": 2,
   "metadata": {
    "ExecuteTime": {
     "end_time": "2023-10-28T03:44:43.850489Z",
     "start_time": "2023-10-28T03:44:43.671910Z"
    },
    "cell_id": "9800999eeea244138c3dd049aea7d9f8",
    "deepnote_cell_type": "code",
    "deepnote_to_be_reexecuted": false,
    "execution_millis": 828,
    "execution_start": 1698459861271,
    "source_hash": "66c34516"
   },
   "outputs": [
    {
     "data": {
      "text/html": [
       "<div>\n",
       "<style scoped>\n",
       "    .dataframe tbody tr th:only-of-type {\n",
       "        vertical-align: middle;\n",
       "    }\n",
       "\n",
       "    .dataframe tbody tr th {\n",
       "        vertical-align: top;\n",
       "    }\n",
       "\n",
       "    .dataframe thead th {\n",
       "        text-align: right;\n",
       "    }\n",
       "</style>\n",
       "<table border=\"1\" class=\"dataframe\">\n",
       "  <thead>\n",
       "    <tr style=\"text-align: right;\">\n",
       "      <th></th>\n",
       "      <th>id</th>\n",
       "      <th>name</th>\n",
       "      <th>artist</th>\n",
       "      <th>disc</th>\n",
       "      <th>duration</th>\n",
       "      <th>episode</th>\n",
       "      <th>explicit</th>\n",
       "      <th>popularity</th>\n",
       "      <th>danceability</th>\n",
       "      <th>acousticness</th>\n",
       "      <th>energy</th>\n",
       "      <th>instrumentalness</th>\n",
       "      <th>liveness</th>\n",
       "      <th>loudness</th>\n",
       "      <th>mode</th>\n",
       "      <th>speechiness</th>\n",
       "      <th>tempo</th>\n",
       "      <th>time_signature</th>\n",
       "      <th>valence</th>\n",
       "      <th>lyrics</th>\n",
       "    </tr>\n",
       "  </thead>\n",
       "  <tbody>\n",
       "    <tr>\n",
       "      <th>0</th>\n",
       "      <td>1hA4856JVAa0qqgKg6olJf</td>\n",
       "      <td>The Messenger - Live from Las Vegas, 2011</td>\n",
       "      <td>Linkin Park</td>\n",
       "      <td>1</td>\n",
       "      <td>233280</td>\n",
       "      <td>False</td>\n",
       "      <td>False</td>\n",
       "      <td>37</td>\n",
       "      <td>0.325</td>\n",
       "      <td>0.726000</td>\n",
       "      <td>0.409</td>\n",
       "      <td>0.000013</td>\n",
       "      <td>0.1880</td>\n",
       "      <td>-5.711</td>\n",
       "      <td>1</td>\n",
       "      <td>0.0295</td>\n",
       "      <td>109.001</td>\n",
       "      <td>4</td>\n",
       "      <td>0.187</td>\n",
       "      <td>6 ContributorsThe Messenger (Live from Las Veg...</td>\n",
       "    </tr>\n",
       "    <tr>\n",
       "      <th>1</th>\n",
       "      <td>0GgN4MhR5GKn5IcKN0e0rG</td>\n",
       "      <td>Cancer</td>\n",
       "      <td>My Chemical Romance</td>\n",
       "      <td>1</td>\n",
       "      <td>142973</td>\n",
       "      <td>False</td>\n",
       "      <td>False</td>\n",
       "      <td>72</td>\n",
       "      <td>0.457</td>\n",
       "      <td>0.358000</td>\n",
       "      <td>0.515</td>\n",
       "      <td>0.000000</td>\n",
       "      <td>0.2780</td>\n",
       "      <td>-4.310</td>\n",
       "      <td>1</td>\n",
       "      <td>0.0261</td>\n",
       "      <td>74.984</td>\n",
       "      <td>4</td>\n",
       "      <td>0.222</td>\n",
       "      <td>93 ContributorsCancer Lyrics\\nTurn away\\nIf yo...</td>\n",
       "    </tr>\n",
       "    <tr>\n",
       "      <th>2</th>\n",
       "      <td>10nyNJ6zNy2YVYLrcwLccB</td>\n",
       "      <td>No Surprises</td>\n",
       "      <td>Radiohead</td>\n",
       "      <td>1</td>\n",
       "      <td>229120</td>\n",
       "      <td>False</td>\n",
       "      <td>False</td>\n",
       "      <td>83</td>\n",
       "      <td>0.255</td>\n",
       "      <td>0.057700</td>\n",
       "      <td>0.393</td>\n",
       "      <td>0.003610</td>\n",
       "      <td>0.1130</td>\n",
       "      <td>-10.654</td>\n",
       "      <td>1</td>\n",
       "      <td>0.0278</td>\n",
       "      <td>76.426</td>\n",
       "      <td>4</td>\n",
       "      <td>0.118</td>\n",
       "      <td>129 ContributorsTranslationsРусскийDeutschEspa...</td>\n",
       "    </tr>\n",
       "    <tr>\n",
       "      <th>3</th>\n",
       "      <td>7lRlq939cDG4SzWOF4VAnd</td>\n",
       "      <td>I'm Not Okay (I Promise)</td>\n",
       "      <td>My Chemical Romance</td>\n",
       "      <td>1</td>\n",
       "      <td>186480</td>\n",
       "      <td>False</td>\n",
       "      <td>True</td>\n",
       "      <td>78</td>\n",
       "      <td>0.210</td>\n",
       "      <td>0.006020</td>\n",
       "      <td>0.940</td>\n",
       "      <td>0.000000</td>\n",
       "      <td>0.2690</td>\n",
       "      <td>-3.427</td>\n",
       "      <td>1</td>\n",
       "      <td>0.1230</td>\n",
       "      <td>179.722</td>\n",
       "      <td>4</td>\n",
       "      <td>0.255</td>\n",
       "      <td>109 ContributorsTranslationsEspañolI’m Not Oka...</td>\n",
       "    </tr>\n",
       "    <tr>\n",
       "      <th>4</th>\n",
       "      <td>5u2FOoFhp495GIj5BJC77J</td>\n",
       "      <td>Hold On Till May</td>\n",
       "      <td>Pierce The Veil</td>\n",
       "      <td>1</td>\n",
       "      <td>278586</td>\n",
       "      <td>False</td>\n",
       "      <td>False</td>\n",
       "      <td>66</td>\n",
       "      <td>0.460</td>\n",
       "      <td>0.000585</td>\n",
       "      <td>0.910</td>\n",
       "      <td>0.001550</td>\n",
       "      <td>0.0735</td>\n",
       "      <td>-3.710</td>\n",
       "      <td>1</td>\n",
       "      <td>0.0525</td>\n",
       "      <td>73.019</td>\n",
       "      <td>4</td>\n",
       "      <td>0.327</td>\n",
       "      <td>58 ContributorsHold on Till May Lyrics\\nShe si...</td>\n",
       "    </tr>\n",
       "  </tbody>\n",
       "</table>\n",
       "</div>"
      ],
      "text/plain": [
       "                       id                                       name  \\\n",
       "0  1hA4856JVAa0qqgKg6olJf  The Messenger - Live from Las Vegas, 2011   \n",
       "1  0GgN4MhR5GKn5IcKN0e0rG                                     Cancer   \n",
       "2  10nyNJ6zNy2YVYLrcwLccB                               No Surprises   \n",
       "3  7lRlq939cDG4SzWOF4VAnd                   I'm Not Okay (I Promise)   \n",
       "4  5u2FOoFhp495GIj5BJC77J                           Hold On Till May   \n",
       "\n",
       "                artist  disc  duration  episode  explicit  popularity  \\\n",
       "0          Linkin Park     1    233280    False     False          37   \n",
       "1  My Chemical Romance     1    142973    False     False          72   \n",
       "2            Radiohead     1    229120    False     False          83   \n",
       "3  My Chemical Romance     1    186480    False      True          78   \n",
       "4      Pierce The Veil     1    278586    False     False          66   \n",
       "\n",
       "   danceability  acousticness  energy  instrumentalness  liveness  loudness  \\\n",
       "0         0.325      0.726000   0.409          0.000013    0.1880    -5.711   \n",
       "1         0.457      0.358000   0.515          0.000000    0.2780    -4.310   \n",
       "2         0.255      0.057700   0.393          0.003610    0.1130   -10.654   \n",
       "3         0.210      0.006020   0.940          0.000000    0.2690    -3.427   \n",
       "4         0.460      0.000585   0.910          0.001550    0.0735    -3.710   \n",
       "\n",
       "   mode  speechiness    tempo  time_signature  valence  \\\n",
       "0     1       0.0295  109.001               4    0.187   \n",
       "1     1       0.0261   74.984               4    0.222   \n",
       "2     1       0.0278   76.426               4    0.118   \n",
       "3     1       0.1230  179.722               4    0.255   \n",
       "4     1       0.0525   73.019               4    0.327   \n",
       "\n",
       "                                              lyrics  \n",
       "0  6 ContributorsThe Messenger (Live from Las Veg...  \n",
       "1  93 ContributorsCancer Lyrics\\nTurn away\\nIf yo...  \n",
       "2  129 ContributorsTranslationsРусскийDeutschEspa...  \n",
       "3  109 ContributorsTranslationsEspañolI’m Not Oka...  \n",
       "4  58 ContributorsHold on Till May Lyrics\\nShe si...  "
      ]
     },
     "execution_count": 2,
     "metadata": {},
     "output_type": "execute_result"
    }
   ],
   "source": [
    "# Import dataset\n",
    "df = pd.read_excel('dataset.xlsx', header=0, index_col=0)\n",
    "df.head()"
   ]
  },
  {
   "cell_type": "code",
   "execution_count": 3,
   "metadata": {},
   "outputs": [
    {
     "data": {
      "text/html": [
       "<div>\n",
       "<style scoped>\n",
       "    .dataframe tbody tr th:only-of-type {\n",
       "        vertical-align: middle;\n",
       "    }\n",
       "\n",
       "    .dataframe tbody tr th {\n",
       "        vertical-align: top;\n",
       "    }\n",
       "\n",
       "    .dataframe thead th {\n",
       "        text-align: right;\n",
       "    }\n",
       "</style>\n",
       "<table border=\"1\" class=\"dataframe\">\n",
       "  <thead>\n",
       "    <tr style=\"text-align: right;\">\n",
       "      <th></th>\n",
       "      <th>name</th>\n",
       "      <th>artist</th>\n",
       "      <th>duration</th>\n",
       "      <th>popularity</th>\n",
       "      <th>danceability</th>\n",
       "      <th>acousticness</th>\n",
       "      <th>energy</th>\n",
       "      <th>instrumentalness</th>\n",
       "      <th>liveness</th>\n",
       "      <th>loudness</th>\n",
       "      <th>speechiness</th>\n",
       "      <th>tempo</th>\n",
       "      <th>valence</th>\n",
       "      <th>lyrics</th>\n",
       "    </tr>\n",
       "  </thead>\n",
       "  <tbody>\n",
       "    <tr>\n",
       "      <th>0</th>\n",
       "      <td>The Messenger - Live from Las Vegas, 2011</td>\n",
       "      <td>Linkin Park</td>\n",
       "      <td>233280</td>\n",
       "      <td>37</td>\n",
       "      <td>0.325</td>\n",
       "      <td>0.726000</td>\n",
       "      <td>0.409</td>\n",
       "      <td>0.000013</td>\n",
       "      <td>0.1880</td>\n",
       "      <td>-5.711</td>\n",
       "      <td>0.0295</td>\n",
       "      <td>109.001</td>\n",
       "      <td>0.187</td>\n",
       "      <td>6 ContributorsThe Messenger (Live from Las Veg...</td>\n",
       "    </tr>\n",
       "    <tr>\n",
       "      <th>1</th>\n",
       "      <td>Cancer</td>\n",
       "      <td>My Chemical Romance</td>\n",
       "      <td>142973</td>\n",
       "      <td>72</td>\n",
       "      <td>0.457</td>\n",
       "      <td>0.358000</td>\n",
       "      <td>0.515</td>\n",
       "      <td>0.000000</td>\n",
       "      <td>0.2780</td>\n",
       "      <td>-4.310</td>\n",
       "      <td>0.0261</td>\n",
       "      <td>74.984</td>\n",
       "      <td>0.222</td>\n",
       "      <td>93 ContributorsCancer Lyrics\\nTurn away\\nIf yo...</td>\n",
       "    </tr>\n",
       "    <tr>\n",
       "      <th>2</th>\n",
       "      <td>No Surprises</td>\n",
       "      <td>Radiohead</td>\n",
       "      <td>229120</td>\n",
       "      <td>83</td>\n",
       "      <td>0.255</td>\n",
       "      <td>0.057700</td>\n",
       "      <td>0.393</td>\n",
       "      <td>0.003610</td>\n",
       "      <td>0.1130</td>\n",
       "      <td>-10.654</td>\n",
       "      <td>0.0278</td>\n",
       "      <td>76.426</td>\n",
       "      <td>0.118</td>\n",
       "      <td>129 ContributorsTranslationsРусскийDeutschEspa...</td>\n",
       "    </tr>\n",
       "    <tr>\n",
       "      <th>3</th>\n",
       "      <td>I'm Not Okay (I Promise)</td>\n",
       "      <td>My Chemical Romance</td>\n",
       "      <td>186480</td>\n",
       "      <td>78</td>\n",
       "      <td>0.210</td>\n",
       "      <td>0.006020</td>\n",
       "      <td>0.940</td>\n",
       "      <td>0.000000</td>\n",
       "      <td>0.2690</td>\n",
       "      <td>-3.427</td>\n",
       "      <td>0.1230</td>\n",
       "      <td>179.722</td>\n",
       "      <td>0.255</td>\n",
       "      <td>109 ContributorsTranslationsEspañolI’m Not Oka...</td>\n",
       "    </tr>\n",
       "    <tr>\n",
       "      <th>4</th>\n",
       "      <td>Hold On Till May</td>\n",
       "      <td>Pierce The Veil</td>\n",
       "      <td>278586</td>\n",
       "      <td>66</td>\n",
       "      <td>0.460</td>\n",
       "      <td>0.000585</td>\n",
       "      <td>0.910</td>\n",
       "      <td>0.001550</td>\n",
       "      <td>0.0735</td>\n",
       "      <td>-3.710</td>\n",
       "      <td>0.0525</td>\n",
       "      <td>73.019</td>\n",
       "      <td>0.327</td>\n",
       "      <td>58 ContributorsHold on Till May Lyrics\\nShe si...</td>\n",
       "    </tr>\n",
       "  </tbody>\n",
       "</table>\n",
       "</div>"
      ],
      "text/plain": [
       "                                        name               artist  duration  \\\n",
       "0  The Messenger - Live from Las Vegas, 2011          Linkin Park    233280   \n",
       "1                                     Cancer  My Chemical Romance    142973   \n",
       "2                               No Surprises            Radiohead    229120   \n",
       "3                   I'm Not Okay (I Promise)  My Chemical Romance    186480   \n",
       "4                           Hold On Till May      Pierce The Veil    278586   \n",
       "\n",
       "   popularity  danceability  acousticness  energy  instrumentalness  liveness  \\\n",
       "0          37         0.325      0.726000   0.409          0.000013    0.1880   \n",
       "1          72         0.457      0.358000   0.515          0.000000    0.2780   \n",
       "2          83         0.255      0.057700   0.393          0.003610    0.1130   \n",
       "3          78         0.210      0.006020   0.940          0.000000    0.2690   \n",
       "4          66         0.460      0.000585   0.910          0.001550    0.0735   \n",
       "\n",
       "   loudness  speechiness    tempo  valence  \\\n",
       "0    -5.711       0.0295  109.001    0.187   \n",
       "1    -4.310       0.0261   74.984    0.222   \n",
       "2   -10.654       0.0278   76.426    0.118   \n",
       "3    -3.427       0.1230  179.722    0.255   \n",
       "4    -3.710       0.0525   73.019    0.327   \n",
       "\n",
       "                                              lyrics  \n",
       "0  6 ContributorsThe Messenger (Live from Las Veg...  \n",
       "1  93 ContributorsCancer Lyrics\\nTurn away\\nIf yo...  \n",
       "2  129 ContributorsTranslationsРусскийDeutschEspa...  \n",
       "3  109 ContributorsTranslationsEspañolI’m Not Oka...  \n",
       "4  58 ContributorsHold on Till May Lyrics\\nShe si...  "
      ]
     },
     "execution_count": 3,
     "metadata": {},
     "output_type": "execute_result"
    }
   ],
   "source": [
    "# Remove irrelevant columns\n",
    "song_df = df.drop([\"id\", \"disc\", \"episode\", \"explicit\", \"mode\", \"time_signature\"], axis=1)\n",
    "song_df.head()"
   ]
  },
  {
   "cell_type": "code",
   "execution_count": 4,
   "metadata": {},
   "outputs": [
    {
     "data": {
      "text/plain": [
       "(38, 14)"
      ]
     },
     "execution_count": 4,
     "metadata": {},
     "output_type": "execute_result"
    }
   ],
   "source": [
    "# Identify duplicates\n",
    "song_df[song_df.duplicated()].shape"
   ]
  },
  {
   "cell_type": "code",
   "execution_count": 5,
   "metadata": {},
   "outputs": [],
   "source": [
    "# Remove duplicates and keep the first occurrence\n",
    "song_df = song_df.drop_duplicates(keep='first')"
   ]
  },
  {
   "cell_type": "code",
   "execution_count": 6,
   "metadata": {},
   "outputs": [
    {
     "name": "stdout",
     "output_type": "stream",
     "text": [
      "name                0\n",
      "artist              0\n",
      "duration            0\n",
      "popularity          0\n",
      "danceability        0\n",
      "acousticness        0\n",
      "energy              0\n",
      "instrumentalness    0\n",
      "liveness            0\n",
      "loudness            0\n",
      "speechiness         0\n",
      "tempo               0\n",
      "valence             0\n",
      "lyrics              0\n",
      "dtype: int64\n"
     ]
    }
   ],
   "source": [
    "# Look for missing values\n",
    "print(song_df.isnull().sum())\n",
    "# No Null cells"
   ]
  },
  {
   "cell_type": "code",
   "execution_count": 7,
   "metadata": {},
   "outputs": [],
   "source": [
    "# Reset the index\n",
    "song_df = song_df.reset_index(drop=True)"
   ]
  },
  {
   "cell_type": "code",
   "execution_count": 8,
   "metadata": {},
   "outputs": [
    {
     "data": {
      "text/plain": [
       "196"
      ]
     },
     "execution_count": 8,
     "metadata": {},
     "output_type": "execute_result"
    }
   ],
   "source": [
    "# Identify songs without lyrics\n",
    "sum(song_df['lyrics'] == 'lyrics not available')"
   ]
  },
  {
   "cell_type": "code",
   "execution_count": 9,
   "metadata": {},
   "outputs": [],
   "source": [
    "# Remove songs without lyrics \n",
    "song_df = song_df[song_df['lyrics'] != 'lyrics not available']"
   ]
  },
  {
   "cell_type": "code",
   "execution_count": 10,
   "metadata": {},
   "outputs": [],
   "source": [
    "# Create a lambda function that deletes the number at the beggining of the lyrics\n",
    "# Exclude the word \"Lyrics\" from the result\n",
    "delete_text_before_lyrics = lambda x: x[x.find(\"Lyrics\") + len(\"Lyrics\"):] if x.find(\"Lyrics\") != -1 else x"
   ]
  },
  {
   "cell_type": "code",
   "execution_count": 11,
   "metadata": {},
   "outputs": [],
   "source": [
    "# Apply the lambda function to the lyrics column\n",
    "song_df['lyrics'] = song_df['lyrics'].apply(delete_text_before_lyrics)"
   ]
  },
  {
   "cell_type": "code",
   "execution_count": 12,
   "metadata": {},
   "outputs": [
    {
     "name": "stdout",
     "output_type": "stream",
     "text": [
      "<class 'pandas.core.frame.DataFrame'>\n",
      "Int64Index: 800 entries, 0 to 995\n",
      "Data columns (total 14 columns):\n",
      " #   Column            Non-Null Count  Dtype  \n",
      "---  ------            --------------  -----  \n",
      " 0   name              800 non-null    object \n",
      " 1   artist            800 non-null    object \n",
      " 2   duration          800 non-null    int64  \n",
      " 3   popularity        800 non-null    int64  \n",
      " 4   danceability      800 non-null    float64\n",
      " 5   acousticness      800 non-null    float64\n",
      " 6   energy            800 non-null    float64\n",
      " 7   instrumentalness  800 non-null    float64\n",
      " 8   liveness          800 non-null    float64\n",
      " 9   loudness          800 non-null    float64\n",
      " 10  speechiness       800 non-null    float64\n",
      " 11  tempo             800 non-null    float64\n",
      " 12  valence           800 non-null    float64\n",
      " 13  lyrics            800 non-null    object \n",
      "dtypes: float64(9), int64(2), object(3)\n",
      "memory usage: 93.8+ KB\n"
     ]
    }
   ],
   "source": [
    "# Obtain information from the dataset\n",
    "song_df.info()"
   ]
  },
  {
   "cell_type": "code",
   "execution_count": 13,
   "metadata": {},
   "outputs": [
    {
     "data": {
      "text/plain": [
       "en    664\n",
       "es     85\n",
       "fr     38\n",
       "ca      3\n",
       "tl      2\n",
       "it      2\n",
       "pt      2\n",
       "id      1\n",
       "tr      1\n",
       "so      1\n",
       "sk      1\n",
       "Name: language, dtype: int64"
      ]
     },
     "execution_count": 13,
     "metadata": {},
     "output_type": "execute_result"
    }
   ],
   "source": [
    "# Detect the languages of the lyrics\n",
    "song_df['language'] = song_df['lyrics'].apply(lambda x: detect(x) if isinstance(x, str) else 'unknown')\n",
    "song_df.language.value_counts()"
   ]
  },
  {
   "cell_type": "code",
   "execution_count": 14,
   "metadata": {},
   "outputs": [],
   "source": [
    "# Drop song that aren't in English, Spanish or French\n",
    "song_df = song_df[song_df['language'].isin(['en', 'es', 'fr'])]"
   ]
  },
  {
   "cell_type": "code",
   "execution_count": 15,
   "metadata": {},
   "outputs": [],
   "source": [
    "# Divide into 3 dataframes for language processing\n",
    "df_en = song_df[song_df['language'] == 'en']\n",
    "df_es = song_df[song_df['language'] == 'es']\n",
    "df_fr = song_df[song_df['language'] == 'fr']"
   ]
  },
  {
   "cell_type": "code",
   "execution_count": 16,
   "metadata": {},
   "outputs": [],
   "source": [
    "# Create a list for lyrics in each language\n",
    "lyrics_en = df_en['lyrics'].tolist()\n",
    "lyrics_es = df_es['lyrics'].tolist()\n",
    "lyrics_fr = df_fr['lyrics'].tolist()"
   ]
  },
  {
   "cell_type": "code",
   "execution_count": 17,
   "metadata": {},
   "outputs": [],
   "source": [
    "# Install the pre-trained language processing models"
   ]
  },
  {
   "cell_type": "code",
   "execution_count": 18,
   "metadata": {},
   "outputs": [],
   "source": [
    "#!python -m spacy download en_core_web_sm"
   ]
  },
  {
   "cell_type": "code",
   "execution_count": 19,
   "metadata": {},
   "outputs": [],
   "source": [
    "#!python -m spacy download es_core_news_sm"
   ]
  },
  {
   "cell_type": "code",
   "execution_count": 20,
   "metadata": {},
   "outputs": [],
   "source": [
    "#!python -m spacy download fr_core_news_sm"
   ]
  },
  {
   "cell_type": "code",
   "execution_count": 21,
   "metadata": {},
   "outputs": [],
   "source": [
    "# Define function to process the lyrics with the NLP model\n",
    "def process_lyrics(lyrics, language_model):\n",
    "    processed_lyrics = []\n",
    "    for lyric in lyrics:\n",
    "        doc = language_model(lyric)\n",
    "        tokens = [token.lemma_ for token in doc if not token.is_stop]\n",
    "        processed_lyrics.append(tokens)\n",
    "    return processed_lyrics\n",
    "\n",
    "# Define function to remove stopwords from lyrics\n",
    "def remove_unwanted_words(processed_lyrics, unwanted_words):\n",
    "    cleaned_lyrics = []\n",
    "\n",
    "    for tokens in processed_lyrics:\n",
    "        cleaned_tokens = [token for token in tokens if token not in unwanted_words]\n",
    "        cleaned_lyrics.append(cleaned_tokens)\n",
    "\n",
    "    return cleaned_lyrics"
   ]
  },
  {
   "cell_type": "code",
   "execution_count": 22,
   "metadata": {},
   "outputs": [],
   "source": [
    "# Load the language models for each language\n",
    "nlp_en = spacy.load('en_core_web_sm')\n",
    "nlp_es = spacy.load('es_core_news_sm')\n",
    "nlp_fr = spacy.load('fr_core_news_sm')"
   ]
  },
  {
   "cell_type": "code",
   "execution_count": 23,
   "metadata": {},
   "outputs": [],
   "source": [
    "# Process English lyrics\n",
    "processed_lyrics_en = process_lyrics(lyrics_en, nlp_en)\n",
    "# Process Spanish lyrics\n",
    "processed_lyrics_es = process_lyrics(lyrics_es, nlp_es)\n",
    "# Process French lyrics\n",
    "processed_lyrics_fr = process_lyrics(lyrics_fr, nlp_fr)"
   ]
  },
  {
   "cell_type": "code",
   "execution_count": 24,
   "metadata": {},
   "outputs": [],
   "source": [
    "# Create a list of unwanted words to remove\n",
    "unwanted_words = [\"\\n\", \"(\", \")\", \",\", ]\n",
    "# Remove unwanted words from processed lyrics\n",
    "cleaned_lyrics_en = remove_unwanted_words(processed_lyrics_en, unwanted_words)\n",
    "cleaned_lyrics_es = remove_unwanted_words(processed_lyrics_es, unwanted_words)\n",
    "cleaned_lyrics_fr = remove_unwanted_words(processed_lyrics_fr, unwanted_words)"
   ]
  },
  {
   "cell_type": "code",
   "execution_count": 25,
   "metadata": {},
   "outputs": [],
   "source": [
    "# Define function to obtain sentiment scores\n",
    "def analyze_sentiment(lyrics, language_model):\n",
    "    sentiment_scores = []\n",
    "    for lyric in lyrics:\n",
    "        doc = language_model(lyric)\n",
    "        text = \" \".join([token.lemma_ for token in doc if not token.is_stop])\n",
    "        blob = TextBlob(text)\n",
    "        sentiment_scores.append(blob.sentiment)\n",
    "    return sentiment_scores"
   ]
  },
  {
   "cell_type": "code",
   "execution_count": 26,
   "metadata": {},
   "outputs": [],
   "source": [
    "# Obtain the sentiment score of each lyric\n",
    "language_dataframes = {\n",
    "    'en': df_en,\n",
    "    'es': df_es,\n",
    "    'fr': df_fr}\n",
    "new_dataframes = {}\n",
    "\n",
    "for lang, df in language_dataframes.items():\n",
    "    sentiment_scores = analyze_sentiment(df['lyrics'], language_model=nlp_en if lang == 'en' else nlp_es if lang == 'es' else nlp_fr)\n",
    "    new_df = df.copy()  # Create a copy of the original DataFrame\n",
    "    new_df['Sentiment'] = sentiment_scores\n",
    "    new_dataframes[lang] = new_df"
   ]
  },
  {
   "cell_type": "code",
   "execution_count": 27,
   "metadata": {},
   "outputs": [],
   "source": [
    "# Define function to extract Polarity and Subjectivity\n",
    "def split_sentiment_column(df, sentiment_column_name, polarity_column_name, subjectivity_column_name):\n",
    "    df[[polarity_column_name, subjectivity_column_name]] = pd.DataFrame(df[sentiment_column_name].tolist(), index=df.index)\n",
    "    df = df.drop(sentiment_column_name, axis=1)\n",
    "    return df"
   ]
  },
  {
   "cell_type": "code",
   "execution_count": 28,
   "metadata": {},
   "outputs": [],
   "source": [
    "new_dataframes['en'] = split_sentiment_column(new_dataframes['en'], 'Sentiment', 'Polarity', 'Subjectivity')\n",
    "new_dataframes['es'] = split_sentiment_column(new_dataframes['es'], 'Sentiment', 'Polarity', 'Subjectivity')\n",
    "new_dataframes['fr'] = split_sentiment_column(new_dataframes['fr'], 'Sentiment', 'Polarity', 'Subjectivity')"
   ]
  },
  {
   "cell_type": "code",
   "execution_count": 29,
   "metadata": {},
   "outputs": [],
   "source": [
    "# Drop lyrics column\n",
    "new_dataframes['en'].drop('lyrics', axis=1, inplace=True)\n",
    "new_dataframes['es'].drop('lyrics', axis=1, inplace=True)\n",
    "new_dataframes['fr'].drop('lyrics', axis=1, inplace=True)"
   ]
  },
  {
   "cell_type": "code",
   "execution_count": 30,
   "metadata": {},
   "outputs": [],
   "source": [
    "# Combine all dtaframes into a single one\n",
    "cleaned_df = pd.concat([new_dataframes['en'], new_dataframes['es'], new_dataframes['fr']], axis=0)"
   ]
  },
  {
   "cell_type": "code",
   "execution_count": 31,
   "metadata": {},
   "outputs": [
    {
     "data": {
      "text/html": [
       "<div>\n",
       "<style scoped>\n",
       "    .dataframe tbody tr th:only-of-type {\n",
       "        vertical-align: middle;\n",
       "    }\n",
       "\n",
       "    .dataframe tbody tr th {\n",
       "        vertical-align: top;\n",
       "    }\n",
       "\n",
       "    .dataframe thead th {\n",
       "        text-align: right;\n",
       "    }\n",
       "</style>\n",
       "<table border=\"1\" class=\"dataframe\">\n",
       "  <thead>\n",
       "    <tr style=\"text-align: right;\">\n",
       "      <th></th>\n",
       "      <th>name</th>\n",
       "      <th>artist</th>\n",
       "      <th>duration</th>\n",
       "      <th>popularity</th>\n",
       "      <th>danceability</th>\n",
       "      <th>acousticness</th>\n",
       "      <th>energy</th>\n",
       "      <th>instrumentalness</th>\n",
       "      <th>liveness</th>\n",
       "      <th>loudness</th>\n",
       "      <th>speechiness</th>\n",
       "      <th>tempo</th>\n",
       "      <th>valence</th>\n",
       "      <th>language</th>\n",
       "      <th>Polarity</th>\n",
       "      <th>Subjectivity</th>\n",
       "    </tr>\n",
       "  </thead>\n",
       "  <tbody>\n",
       "    <tr>\n",
       "      <th>0</th>\n",
       "      <td>The Messenger - Live from Las Vegas, 2011</td>\n",
       "      <td>Linkin Park</td>\n",
       "      <td>233280</td>\n",
       "      <td>37</td>\n",
       "      <td>0.325</td>\n",
       "      <td>0.726000</td>\n",
       "      <td>0.409</td>\n",
       "      <td>0.000013</td>\n",
       "      <td>0.1880</td>\n",
       "      <td>-5.711</td>\n",
       "      <td>0.0295</td>\n",
       "      <td>109.001</td>\n",
       "      <td>0.187</td>\n",
       "      <td>en</td>\n",
       "      <td>0.141837</td>\n",
       "      <td>0.752551</td>\n",
       "    </tr>\n",
       "    <tr>\n",
       "      <th>1</th>\n",
       "      <td>Cancer</td>\n",
       "      <td>My Chemical Romance</td>\n",
       "      <td>142973</td>\n",
       "      <td>72</td>\n",
       "      <td>0.457</td>\n",
       "      <td>0.358000</td>\n",
       "      <td>0.515</td>\n",
       "      <td>0.000000</td>\n",
       "      <td>0.2780</td>\n",
       "      <td>-4.310</td>\n",
       "      <td>0.0261</td>\n",
       "      <td>74.984</td>\n",
       "      <td>0.222</td>\n",
       "      <td>en</td>\n",
       "      <td>-0.067330</td>\n",
       "      <td>0.678125</td>\n",
       "    </tr>\n",
       "    <tr>\n",
       "      <th>2</th>\n",
       "      <td>No Surprises</td>\n",
       "      <td>Radiohead</td>\n",
       "      <td>229120</td>\n",
       "      <td>83</td>\n",
       "      <td>0.255</td>\n",
       "      <td>0.057700</td>\n",
       "      <td>0.393</td>\n",
       "      <td>0.003610</td>\n",
       "      <td>0.1130</td>\n",
       "      <td>-10.654</td>\n",
       "      <td>0.0278</td>\n",
       "      <td>76.426</td>\n",
       "      <td>0.118</td>\n",
       "      <td>en</td>\n",
       "      <td>-0.036364</td>\n",
       "      <td>0.630303</td>\n",
       "    </tr>\n",
       "    <tr>\n",
       "      <th>3</th>\n",
       "      <td>I'm Not Okay (I Promise)</td>\n",
       "      <td>My Chemical Romance</td>\n",
       "      <td>186480</td>\n",
       "      <td>78</td>\n",
       "      <td>0.210</td>\n",
       "      <td>0.006020</td>\n",
       "      <td>0.940</td>\n",
       "      <td>0.000000</td>\n",
       "      <td>0.2690</td>\n",
       "      <td>-3.427</td>\n",
       "      <td>0.1230</td>\n",
       "      <td>179.722</td>\n",
       "      <td>0.255</td>\n",
       "      <td>en</td>\n",
       "      <td>0.259333</td>\n",
       "      <td>0.536667</td>\n",
       "    </tr>\n",
       "    <tr>\n",
       "      <th>4</th>\n",
       "      <td>Hold On Till May</td>\n",
       "      <td>Pierce The Veil</td>\n",
       "      <td>278586</td>\n",
       "      <td>66</td>\n",
       "      <td>0.460</td>\n",
       "      <td>0.000585</td>\n",
       "      <td>0.910</td>\n",
       "      <td>0.001550</td>\n",
       "      <td>0.0735</td>\n",
       "      <td>-3.710</td>\n",
       "      <td>0.0525</td>\n",
       "      <td>73.019</td>\n",
       "      <td>0.327</td>\n",
       "      <td>en</td>\n",
       "      <td>0.177059</td>\n",
       "      <td>0.499412</td>\n",
       "    </tr>\n",
       "  </tbody>\n",
       "</table>\n",
       "</div>"
      ],
      "text/plain": [
       "                                        name               artist  duration  \\\n",
       "0  The Messenger - Live from Las Vegas, 2011          Linkin Park    233280   \n",
       "1                                     Cancer  My Chemical Romance    142973   \n",
       "2                               No Surprises            Radiohead    229120   \n",
       "3                   I'm Not Okay (I Promise)  My Chemical Romance    186480   \n",
       "4                           Hold On Till May      Pierce The Veil    278586   \n",
       "\n",
       "   popularity  danceability  acousticness  energy  instrumentalness  liveness  \\\n",
       "0          37         0.325      0.726000   0.409          0.000013    0.1880   \n",
       "1          72         0.457      0.358000   0.515          0.000000    0.2780   \n",
       "2          83         0.255      0.057700   0.393          0.003610    0.1130   \n",
       "3          78         0.210      0.006020   0.940          0.000000    0.2690   \n",
       "4          66         0.460      0.000585   0.910          0.001550    0.0735   \n",
       "\n",
       "   loudness  speechiness    tempo  valence language  Polarity  Subjectivity  \n",
       "0    -5.711       0.0295  109.001    0.187       en  0.141837      0.752551  \n",
       "1    -4.310       0.0261   74.984    0.222       en -0.067330      0.678125  \n",
       "2   -10.654       0.0278   76.426    0.118       en -0.036364      0.630303  \n",
       "3    -3.427       0.1230  179.722    0.255       en  0.259333      0.536667  \n",
       "4    -3.710       0.0525   73.019    0.327       en  0.177059      0.499412  "
      ]
     },
     "execution_count": 31,
     "metadata": {},
     "output_type": "execute_result"
    }
   ],
   "source": [
    "cleaned_df.head()"
   ]
  },
  {
   "cell_type": "code",
   "execution_count": 34,
   "metadata": {},
   "outputs": [],
   "source": [
    "cleaned_df.to_excel('clean_songs_en_fr_sp.xlsx', index=False, index_label=False)"
   ]
  },
  {
   "cell_type": "code",
   "execution_count": null,
   "metadata": {},
   "outputs": [],
   "source": []
  }
 ],
 "metadata": {
  "deepnote": {},
  "deepnote_execution_queue": [],
  "deepnote_notebook_id": "9da557c9d0a14b9a8d8df1a7a5c87eee",
  "deepnote_persisted_session": {
   "createdAt": "2023-10-28T02:04:25.220Z"
  },
  "kernelspec": {
   "display_name": "Python 3 (ipykernel)",
   "language": "python",
   "name": "python3"
  },
  "language_info": {
   "codemirror_mode": {
    "name": "ipython",
    "version": 3
   },
   "file_extension": ".py",
   "mimetype": "text/x-python",
   "name": "python",
   "nbconvert_exporter": "python",
   "pygments_lexer": "ipython3",
   "version": "3.9.12"
  }
 },
 "nbformat": 4,
 "nbformat_minor": 1
}
